{
 "cells": [
  {
   "cell_type": "code",
   "execution_count": 1,
   "metadata": {},
   "outputs": [],
   "source": [
    "import jupyter_black\n",
    "\n",
    "jupyter_black.load()"
   ]
  },
  {
   "cell_type": "code",
   "execution_count": 2,
   "metadata": {},
   "outputs": [],
   "source": [
    "from pathlib import Path\n",
    "import csv\n",
    "import time\n",
    "from collections import namedtuple\n",
    "from sec_edgar_downloader import Downloader as SecEdgarDownloader\n",
    "from sec_downloader import DownloadStorage, Downloader\n",
    "from dotenv import load_dotenv\n",
    "import os\n",
    "import glob\n",
    "import os\n",
    "import json\n",
    "import re\n",
    "from sec_api_io.secapio_data_retriever import SecapioDataRetriever\n",
    "from tqdm.notebook import tqdm\n",
    "\n",
    "load_dotenv()\n",
    "sec_dl = Downloader(\"Alphanome.AI\", \"info@alphanome.ai\")"
   ]
  },
  {
   "cell_type": "code",
   "execution_count": 3,
   "metadata": {},
   "outputs": [],
   "source": [
    "DOWNLOAD_PATH = Path(\"..\")\n",
    "FILING_TYPES = [\"10-Q\", \"10-K\"]"
   ]
  },
  {
   "cell_type": "code",
   "execution_count": 4,
   "metadata": {},
   "outputs": [],
   "source": [
    "Report = namedtuple(\"Report\", [\"comment\", \"query\"])"
   ]
  },
  {
   "cell_type": "code",
   "execution_count": 5,
   "metadata": {},
   "outputs": [],
   "source": [
    "def get_report_list(path_str: str):\n",
    "    company_list = []\n",
    "    with Path(path_str).open(\"r\") as f:\n",
    "        reader = csv.reader(f)\n",
    "        next(reader)  # Skip the header\n",
    "        for row in reader:\n",
    "            assert (\n",
    "                len(row) == 2\n",
    "            ), f\"Expected 2 columns, got {len(row)} instead, row: {row}\"\n",
    "            company_list.append(Report(*row))\n",
    "    return company_list"
   ]
  },
  {
   "cell_type": "code",
   "execution_count": 6,
   "metadata": {},
   "outputs": [],
   "source": [
    "report_list = get_report_list(\"00_report-list.csv\")"
   ]
  },
  {
   "cell_type": "code",
   "execution_count": 7,
   "metadata": {},
   "outputs": [],
   "source": [
    "def download_and_save(document_type, ticker) -> bool:\n",
    "    document_type = document_type.upper().strip()\n",
    "\n",
    "    query = None\n",
    "    accession_number = None\n",
    "    if \"/\" in ticker:\n",
    "        query = ticker\n",
    "        ticker, _, accession_number = ticker.partition(\"/\")\n",
    "        ticker = ticker.strip()\n",
    "        accession_number = accession_number.strip()\n",
    "        assert re.match(\n",
    "            r\"\\d{10}-\\d{2}-\\d{6}\", accession_number\n",
    "        ), f\"Expected accession number to be in the format of XXXXXXXX-XX-XXXXXX, got {accession_number} instead\"\n",
    "    ticker = ticker.upper().strip()\n",
    "\n",
    "    if query is None:\n",
    "        save_dir = DOWNLOAD_PATH / document_type / ticker\n",
    "        if save_dir.exists():\n",
    "            return False\n",
    "\n",
    "        storage = DownloadStorage(filter_pattern=\"**/*.htm*\")\n",
    "        with storage as path:\n",
    "            dl = SecEdgarDownloader(\"Alphanome.AI\", \"info@alphanome.ai\", path)\n",
    "            dl.get(document_type, ticker, limit=1, download_details=True)\n",
    "\n",
    "        files = storage.get_file_contents()\n",
    "        assert (\n",
    "            len(files) == 1\n",
    "        ), f\"Expected 1 file, got {len(files)} instead. Ticker: {ticker}\"\n",
    "        path, content = files[0]\n",
    "\n",
    "        accession_number = path.parts[3]\n",
    "        save_path = save_dir / accession_number / \"primary-document.html\"\n",
    "        save_path.parent.mkdir(parents=True, exist_ok=True)\n",
    "        with save_path.open(\"w\") as f:\n",
    "            f.write(content)\n",
    "    else:\n",
    "        assert ticker and isinstance(\n",
    "            ticker, str\n",
    "        ), f\"Expected ticker to be a string, got {ticker} instead\"\n",
    "        assert accession_number and isinstance(\n",
    "            accession_number, str\n",
    "        ), f\"Expected accession_number to be a string, got {accession_number} instead\"\n",
    "        save_dir = DOWNLOAD_PATH / document_type / ticker / accession_number\n",
    "        if save_dir.exists():\n",
    "            return False\n",
    "        metadatas = sec_dl.get_filing_metadatas(query)\n",
    "        assert (\n",
    "            len(metadatas) == 1\n",
    "        ), f\"Expected 1 metadata, got {len(metadatas)} instead. Ticker: {ticker}, accession_number: {accession_number}\"\n",
    "        metadata = metadatas[0]\n",
    "        file_contents = sec_dl.download_filing(url=metadata.primary_doc_url)\n",
    "        save_path = save_dir / \"primary-document.html\"\n",
    "        save_path.parent.mkdir(parents=True, exist_ok=True)\n",
    "        with save_path.open(\"wb\") as f:\n",
    "            f.write(file_contents)\n",
    "\n",
    "    return True"
   ]
  },
  {
   "cell_type": "code",
   "execution_count": 8,
   "metadata": {},
   "outputs": [],
   "source": [
    "for filing_type in FILING_TYPES:\n",
    "    download_and_save(filing_type, \"MSFT\")"
   ]
  },
  {
   "cell_type": "code",
   "execution_count": 9,
   "metadata": {},
   "outputs": [
    {
     "name": "stdout",
     "output_type": "stream",
     "text": [
      "\n",
      "Downloading 10-K filings...\n"
     ]
    },
    {
     "data": {
      "application/vnd.jupyter.widget-view+json": {
       "model_id": "a9b77ef4e110458e86b2c616258ef94a",
       "version_major": 2,
       "version_minor": 0
      },
      "text/plain": [
       "  0%|          | 0/110 [00:00<?, ?it/s]"
      ]
     },
     "metadata": {},
     "output_type": "display_data"
    }
   ],
   "source": [
    "for filing_type in FILING_TYPES:\n",
    "    print(f\"\\nDownloading {filing_type} filings...\")\n",
    "    for report in tqdm(report_list):\n",
    "        assert isinstance(report, Report)\n",
    "        try:\n",
    "            downloaded = download_and_save(filing_type, report.query)\n",
    "            if downloaded:\n",
    "                time.sleep(0.1)  # SEC EDGAR limits to 10 requests per second\n",
    "        except Exception as e:\n",
    "            print(f\"Error downloading {filing_type} for {report.query}: {str(e)}\")"
   ]
  },
  {
   "cell_type": "code",
   "execution_count": 10,
   "metadata": {},
   "outputs": [],
   "source": [
    "def download_from_secapio(document_type, accession_number):\n",
    "    retriever = SecapioDataRetriever()\n",
    "    metadata = retriever.retrieve_report_metadata(\n",
    "        document_type, accession_number=accession_number\n",
    "    )\n",
    "    url = metadata[\"linkToFilingDetails\"]\n",
    "    assert url.startswith(\"https://www.sec.gov/Archives/edgar/data/\")\n",
    "    return retriever.get_report_html(document_type, url)"
   ]
  },
  {
   "cell_type": "code",
   "execution_count": 11,
   "metadata": {},
   "outputs": [],
   "source": [
    "def get_section_text(section_ids, content):\n",
    "    sections = []\n",
    "    for i in range(len(section_ids)):\n",
    "        section_end = (\n",
    "            \"<top-level-section-start-marker\" if i < len(section_ids) - 1 else \"$\"\n",
    "        )\n",
    "        section_text = re.findall(\n",
    "            r'<top-level-section-start-marker id=\"'\n",
    "            + section_ids[i]\n",
    "            + '\".*?</top-level-section-start-marker>(.*?)'\n",
    "            + section_end,\n",
    "            content,\n",
    "            re.DOTALL,\n",
    "        )\n",
    "        section_text = section_text[0] if section_text else \"\"\n",
    "        sections.append(\n",
    "            {\n",
    "                \"identifier\": section_ids[i],\n",
    "                \"character_count\": len(section_text.strip()),\n",
    "            }\n",
    "        )\n",
    "    return sections"
   ]
  },
  {
   "cell_type": "code",
   "execution_count": 12,
   "metadata": {},
   "outputs": [],
   "source": [
    "def write_sections_to_file(sections, anchor_file):\n",
    "    expected_sections_path = anchor_file.parent / \"expected-top-level-sections.json\"\n",
    "    with expected_sections_path.open(\"w\") as json_file:\n",
    "        json.dump(sections, json_file, indent=4)"
   ]
  },
  {
   "cell_type": "code",
   "execution_count": 13,
   "metadata": {},
   "outputs": [
    {
     "name": "stdout",
     "output_type": "stream",
     "text": [
      "\n",
      "Processing 10-K files with Secapio...\n"
     ]
    },
    {
     "data": {
      "application/vnd.jupyter.widget-view+json": {
       "model_id": "76226724cec8400480280a69a1e335f4",
       "version_major": 2,
       "version_minor": 0
      },
      "text/plain": [
       "  0%|          | 0/74 [00:00<?, ?it/s]"
      ]
     },
     "metadata": {},
     "output_type": "display_data"
    },
    {
     "ename": "KeyboardInterrupt",
     "evalue": "",
     "output_type": "error",
     "traceback": [
      "\u001b[0;31m---------------------------------------------------------------------------\u001b[0m",
      "\u001b[0;31mHTTPStatusError\u001b[0m                           Traceback (most recent call last)",
      "File \u001b[0;32m/opt/homebrew/Caskroom/miniconda/base/envs/ai-finance/lib/python3.12/site-packages/sec_api_io/retry.py:24\u001b[0m, in \u001b[0;36mretry_with_exponential_backoff.<locals>.wrapper\u001b[0;34m(*args, **kwargs)\u001b[0m\n\u001b[1;32m     23\u001b[0m \u001b[38;5;28;01mtry\u001b[39;00m:\n\u001b[0;32m---> 24\u001b[0m     \u001b[38;5;28;01mreturn\u001b[39;00m \u001b[43mfunc\u001b[49m\u001b[43m(\u001b[49m\u001b[38;5;241;43m*\u001b[39;49m\u001b[43margs\u001b[49m\u001b[43m,\u001b[49m\u001b[43m \u001b[49m\u001b[38;5;241;43m*\u001b[39;49m\u001b[38;5;241;43m*\u001b[39;49m\u001b[43mkwargs\u001b[49m\u001b[43m)\u001b[49m\n\u001b[1;32m     26\u001b[0m \u001b[38;5;66;03m# Retry on specific errors\u001b[39;00m\n",
      "File \u001b[0;32m/opt/homebrew/Caskroom/miniconda/base/envs/ai-finance/lib/python3.12/site-packages/sec_api_io/secapio_data_retriever.py:205\u001b[0m, in \u001b[0;36mSecapioDataRetriever._call_sections_extractor_api\u001b[0;34m(self, url, section)\u001b[0m\n\u001b[1;32m    200\u001b[0m response \u001b[38;5;241m=\u001b[39m httpx\u001b[38;5;241m.\u001b[39mget(\n\u001b[1;32m    201\u001b[0m     \u001b[38;5;124m\"\u001b[39m\u001b[38;5;124mhttps://api.sec-api.io/extractor\u001b[39m\u001b[38;5;124m\"\u001b[39m,\n\u001b[1;32m    202\u001b[0m     timeout\u001b[38;5;241m=\u001b[39m\u001b[38;5;28mself\u001b[39m\u001b[38;5;241m.\u001b[39m_timeout_s,\n\u001b[1;32m    203\u001b[0m     params\u001b[38;5;241m=\u001b[39mparams,\n\u001b[1;32m    204\u001b[0m )\n\u001b[0;32m--> 205\u001b[0m \u001b[43mresponse\u001b[49m\u001b[38;5;241;43m.\u001b[39;49m\u001b[43mraise_for_status\u001b[49m\u001b[43m(\u001b[49m\u001b[43m)\u001b[49m\n\u001b[1;32m    206\u001b[0m \u001b[38;5;28;01mreturn\u001b[39;00m response\u001b[38;5;241m.\u001b[39mtext\n",
      "File \u001b[0;32m/opt/homebrew/Caskroom/miniconda/base/envs/ai-finance/lib/python3.12/site-packages/httpx/_models.py:761\u001b[0m, in \u001b[0;36mResponse.raise_for_status\u001b[0;34m(self)\u001b[0m\n\u001b[1;32m    760\u001b[0m message \u001b[38;5;241m=\u001b[39m message\u001b[38;5;241m.\u001b[39mformat(\u001b[38;5;28mself\u001b[39m, error_type\u001b[38;5;241m=\u001b[39merror_type)\n\u001b[0;32m--> 761\u001b[0m \u001b[38;5;28;01mraise\u001b[39;00m HTTPStatusError(message, request\u001b[38;5;241m=\u001b[39mrequest, response\u001b[38;5;241m=\u001b[39m\u001b[38;5;28mself\u001b[39m)\n",
      "\u001b[0;31mHTTPStatusError\u001b[0m: Client error '429 Too Many Requests' for url 'https://api.sec-api.io/extractor?url=https%3A%2F%2Fwww.sec.gov%2FArchives%2Fedgar%2Fdata%2F320193%2F000032019324000123%2Faapl-20240928.htm&item=12&type=html&token=7e8a35e567c840a6c88bb88243bca98f118d52fb2f9c314db6be041e0b179480'\nFor more information check: https://developer.mozilla.org/en-US/docs/Web/HTTP/Status/429",
      "\nDuring handling of the above exception, another exception occurred:\n",
      "\u001b[0;31mKeyboardInterrupt\u001b[0m                         Traceback (most recent call last)",
      "Cell \u001b[0;32mIn[13], line 18\u001b[0m\n\u001b[1;32m     16\u001b[0m \u001b[38;5;28;01mif\u001b[39;00m \u001b[38;5;129;01mnot\u001b[39;00m secapio_file_path\u001b[38;5;241m.\u001b[39mexists():\n\u001b[1;32m     17\u001b[0m     \u001b[38;5;28;01mtry\u001b[39;00m:\n\u001b[0;32m---> 18\u001b[0m         content \u001b[38;5;241m=\u001b[39m \u001b[43mdownload_from_secapio\u001b[49m\u001b[43m(\u001b[49m\u001b[43mfiling_type\u001b[49m\u001b[43m,\u001b[49m\u001b[43m \u001b[49m\u001b[43maccession_number\u001b[49m\u001b[43m)\u001b[49m\n\u001b[1;32m     19\u001b[0m         \u001b[38;5;28;01mwith\u001b[39;00m secapio_file_path\u001b[38;5;241m.\u001b[39mopen(\u001b[38;5;124m\"\u001b[39m\u001b[38;5;124mw\u001b[39m\u001b[38;5;124m\"\u001b[39m) \u001b[38;5;28;01mas\u001b[39;00m f:\n\u001b[1;32m     20\u001b[0m             f\u001b[38;5;241m.\u001b[39mwrite(content)\n",
      "Cell \u001b[0;32mIn[10], line 8\u001b[0m, in \u001b[0;36mdownload_from_secapio\u001b[0;34m(document_type, accession_number)\u001b[0m\n\u001b[1;32m      6\u001b[0m url \u001b[38;5;241m=\u001b[39m metadata[\u001b[38;5;124m\"\u001b[39m\u001b[38;5;124mlinkToFilingDetails\u001b[39m\u001b[38;5;124m\"\u001b[39m]\n\u001b[1;32m      7\u001b[0m \u001b[38;5;28;01massert\u001b[39;00m url\u001b[38;5;241m.\u001b[39mstartswith(\u001b[38;5;124m\"\u001b[39m\u001b[38;5;124mhttps://www.sec.gov/Archives/edgar/data/\u001b[39m\u001b[38;5;124m\"\u001b[39m)\n\u001b[0;32m----> 8\u001b[0m \u001b[38;5;28;01mreturn\u001b[39;00m \u001b[43mretriever\u001b[49m\u001b[38;5;241;43m.\u001b[39;49m\u001b[43mget_report_html\u001b[49m\u001b[43m(\u001b[49m\u001b[43mdocument_type\u001b[49m\u001b[43m,\u001b[49m\u001b[43m \u001b[49m\u001b[43murl\u001b[49m\u001b[43m)\u001b[49m\n",
      "File \u001b[0;32m/opt/homebrew/Caskroom/miniconda/base/envs/ai-finance/lib/python3.12/site-packages/sec_api_io/abstract_sec_data_retriever.py:42\u001b[0m, in \u001b[0;36mAbstractSECDataRetriever.get_report_html\u001b[0;34m(self, doc_type, url, sections, use_multithreading, workers)\u001b[0m\n\u001b[1;32m     36\u001b[0m doc_type, sections \u001b[38;5;241m=\u001b[39m \u001b[38;5;28mself\u001b[39m\u001b[38;5;241m.\u001b[39m_validate_and_convert(doc_type, sections)\n\u001b[1;32m     38\u001b[0m \u001b[38;5;66;03m# Using the Template Method Pattern here to ensure all necessary\u001b[39;00m\n\u001b[1;32m     39\u001b[0m \u001b[38;5;66;03m# validations are performed before calling the actual implementation.\u001b[39;00m\n\u001b[1;32m     40\u001b[0m \u001b[38;5;66;03m# Subclasses are expected to implement _get_html_from_url for the\u001b[39;00m\n\u001b[1;32m     41\u001b[0m \u001b[38;5;66;03m# core functionality.\u001b[39;00m\n\u001b[0;32m---> 42\u001b[0m \u001b[38;5;28;01mreturn\u001b[39;00m \u001b[38;5;28;43mself\u001b[39;49m\u001b[38;5;241;43m.\u001b[39;49m\u001b[43m_get_report_html\u001b[49m\u001b[43m(\u001b[49m\n\u001b[1;32m     43\u001b[0m \u001b[43m    \u001b[49m\u001b[43mdoc_type\u001b[49m\u001b[43m,\u001b[49m\n\u001b[1;32m     44\u001b[0m \u001b[43m    \u001b[49m\u001b[43murl\u001b[49m\u001b[38;5;241;43m=\u001b[39;49m\u001b[43murl\u001b[49m\u001b[43m,\u001b[49m\n\u001b[1;32m     45\u001b[0m \u001b[43m    \u001b[49m\u001b[43msections\u001b[49m\u001b[38;5;241;43m=\u001b[39;49m\u001b[43msections\u001b[49m\u001b[43m,\u001b[49m\n\u001b[1;32m     46\u001b[0m \u001b[43m    \u001b[49m\u001b[43muse_multithreading\u001b[49m\u001b[38;5;241;43m=\u001b[39;49m\u001b[43muse_multithreading\u001b[49m\u001b[43m,\u001b[49m\n\u001b[1;32m     47\u001b[0m \u001b[43m    \u001b[49m\u001b[43mworkers\u001b[49m\u001b[38;5;241;43m=\u001b[39;49m\u001b[43mworkers\u001b[49m\u001b[43m,\u001b[49m\n\u001b[1;32m     48\u001b[0m \u001b[43m\u001b[49m\u001b[43m)\u001b[49m\n",
      "File \u001b[0;32m/opt/homebrew/Caskroom/miniconda/base/envs/ai-finance/lib/python3.12/site-packages/sec_api_io/secapio_data_retriever.py:152\u001b[0m, in \u001b[0;36mSecapioDataRetriever._get_report_html\u001b[0;34m(self, doc_type, url, sections, use_multithreading, workers)\u001b[0m\n\u001b[1;32m    142\u001b[0m     separator_html \u001b[38;5;241m=\u001b[39m (\n\u001b[1;32m    143\u001b[0m         \u001b[38;5;124m\"\u001b[39m\u001b[38;5;124m<top-level-section-start-marker\u001b[39m\u001b[38;5;124m\"\u001b[39m\n\u001b[1;32m    144\u001b[0m         \u001b[38;5;124mf\u001b[39m\u001b[38;5;124m'\u001b[39m\u001b[38;5;124m id=\u001b[39m\u001b[38;5;124m\"\u001b[39m\u001b[38;5;132;01m{\u001b[39;00msection\u001b[38;5;241m.\u001b[39mvalue\u001b[38;5;132;01m}\u001b[39;00m\u001b[38;5;124m\"\u001b[39m\u001b[38;5;124m'\u001b[39m\n\u001b[0;32m   (...)\u001b[0m\n\u001b[1;32m    149\u001b[0m         \u001b[38;5;124m\"\u001b[39m\u001b[38;5;124m</top-level-section-start-marker>\u001b[39m\u001b[38;5;124m\"\u001b[39m\n\u001b[1;32m    150\u001b[0m     )\n\u001b[1;32m    151\u001b[0m     html_parts\u001b[38;5;241m.\u001b[39mappend(separator_html)\n\u001b[0;32m--> 152\u001b[0m     section_html \u001b[38;5;241m=\u001b[39m \u001b[38;5;28;43mself\u001b[39;49m\u001b[38;5;241;43m.\u001b[39;49m\u001b[43m_call_sections_extractor_api\u001b[49m\u001b[43m(\u001b[49m\n\u001b[1;32m    153\u001b[0m \u001b[43m        \u001b[49m\u001b[43murl\u001b[49m\u001b[43m,\u001b[49m\n\u001b[1;32m    154\u001b[0m \u001b[43m        \u001b[49m\u001b[43msection\u001b[49m\u001b[43m,\u001b[49m\n\u001b[1;32m    155\u001b[0m \u001b[43m    \u001b[49m\u001b[43m)\u001b[49m\n\u001b[1;32m    156\u001b[0m     html_parts\u001b[38;5;241m.\u001b[39mappend(section_html)\n\u001b[1;32m    157\u001b[0m \u001b[38;5;28;01mreturn\u001b[39;00m \u001b[38;5;124m\"\u001b[39m\u001b[38;5;130;01m\\n\u001b[39;00m\u001b[38;5;124m\"\u001b[39m\u001b[38;5;241m.\u001b[39mjoin(html_parts)\n",
      "File \u001b[0;32m/opt/homebrew/Caskroom/miniconda/base/envs/ai-finance/lib/python3.12/site-packages/sec_api_io/retry.py:44\u001b[0m, in \u001b[0;36mretry_with_exponential_backoff.<locals>.wrapper\u001b[0;34m(*args, **kwargs)\u001b[0m\n\u001b[1;32m     42\u001b[0m     \u001b[38;5;66;03m# wait exponentially\u001b[39;00m\n\u001b[1;32m     43\u001b[0m     delay \u001b[38;5;241m*\u001b[39m\u001b[38;5;241m=\u001b[39m exponential_base \u001b[38;5;241m*\u001b[39m (\u001b[38;5;241m1\u001b[39m \u001b[38;5;241m+\u001b[39m jitter \u001b[38;5;241m*\u001b[39m random\u001b[38;5;241m.\u001b[39mrandom())\n\u001b[0;32m---> 44\u001b[0m     \u001b[43mtime\u001b[49m\u001b[38;5;241;43m.\u001b[39;49m\u001b[43msleep\u001b[49m\u001b[43m(\u001b[49m\u001b[43mdelay\u001b[49m\u001b[43m)\u001b[49m\n\u001b[1;32m     46\u001b[0m \u001b[38;5;66;03m# Raise exceptions for any errors not specified\u001b[39;00m\n\u001b[1;32m     47\u001b[0m \u001b[38;5;28;01mexcept\u001b[39;00m \u001b[38;5;167;01mException\u001b[39;00m \u001b[38;5;28;01mas\u001b[39;00m e:\n",
      "\u001b[0;31mKeyboardInterrupt\u001b[0m: "
     ]
    }
   ],
   "source": [
    "if \"SECAPIO_API_KEY\" in os.environ:\n",
    "    retriever = SecapioDataRetriever()\n",
    "\n",
    "    # Process each filing type\n",
    "    for filing_type in FILING_TYPES:\n",
    "        print(f\"\\nProcessing {filing_type} files with Secapio...\")\n",
    "        # Only search in the specific filing type directory\n",
    "        anchor_files = list(\n",
    "            (DOWNLOAD_PATH / filing_type).rglob(\"primary-document.html\")\n",
    "        )\n",
    "\n",
    "        for anchor_file in tqdm(anchor_files):\n",
    "            accession_number = anchor_file.parent.name.replace(\"-\", \"\")\n",
    "            secapio_file_path = anchor_file.parent / \"primary-document-secapio.html\"\n",
    "\n",
    "            if not secapio_file_path.exists():\n",
    "                try:\n",
    "                    content = download_from_secapio(filing_type, accession_number)\n",
    "                    with secapio_file_path.open(\"w\") as f:\n",
    "                        f.write(content)\n",
    "                except Exception as e:\n",
    "                    print(\n",
    "                        f\"Error downloading {filing_type} for {accession_number}: {str(e)}\"\n",
    "                    )\n",
    "                    continue\n",
    "\n",
    "            with secapio_file_path.open(\"r\") as f:\n",
    "                content = f.read()\n",
    "\n",
    "            section_ids = re.findall(\n",
    "                r'<top-level-section-start-marker id=\"(.*?)\"', content\n",
    "            )\n",
    "            sections = get_section_text(section_ids, content)\n",
    "            write_sections_to_file(sections, anchor_file)\n",
    "\n",
    "            # Respect rate limits\n",
    "            time.sleep(0.1)\n",
    "else:\n",
    "    print(\"3rd party data will not be downloaded due to missing key.\")\n",
    "    print(\"Please create a .env file with your SECAPIO_API_KEY to download the data.\")"
   ]
  },
  {
   "cell_type": "code",
   "execution_count": null,
   "metadata": {},
   "outputs": [],
   "source": []
  }
 ],
 "metadata": {
  "kernelspec": {
   "display_name": ".venv",
   "language": "python",
   "name": "python3"
  },
  "language_info": {
   "codemirror_mode": {
    "name": "ipython",
    "version": 3
   },
   "file_extension": ".py",
   "mimetype": "text/x-python",
   "name": "python",
   "nbconvert_exporter": "python",
   "pygments_lexer": "ipython3",
   "version": "3.11.4"
  },
  "orig_nbformat": 4
 },
 "nbformat": 4,
 "nbformat_minor": 2
}
